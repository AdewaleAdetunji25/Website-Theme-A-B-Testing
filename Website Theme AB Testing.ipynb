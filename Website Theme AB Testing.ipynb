{
 "cells": [
  {
   "cell_type": "code",
   "execution_count": null,
   "id": "5090a42c",
   "metadata": {},
   "outputs": [],
   "source": [
    "# Importing necessary libraries\n",
    "import numpy as np\n",
    "import matplotlib.pyplot as plt\n",
    "import pandas as pd\n",
    "import seaborn as sns"
   ]
  },
  {
   "cell_type": "code",
   "execution_count": null,
   "id": "29fead89",
   "metadata": {},
   "outputs": [
    {
     "data": {
      "application/vnd.microsoft.datawrangler.viewer.v0+json": {
       "columns": [
        {
         "name": "index",
         "rawType": "int64",
         "type": "integer"
        },
        {
         "name": "Theme",
         "rawType": "object",
         "type": "string"
        },
        {
         "name": "Click Through Rate",
         "rawType": "float64",
         "type": "float"
        },
        {
         "name": "Conversion Rate",
         "rawType": "float64",
         "type": "float"
        },
        {
         "name": "Bounce Rate",
         "rawType": "float64",
         "type": "float"
        },
        {
         "name": "Scroll_Depth",
         "rawType": "float64",
         "type": "float"
        },
        {
         "name": "Age",
         "rawType": "int64",
         "type": "integer"
        },
        {
         "name": "Location",
         "rawType": "object",
         "type": "string"
        },
        {
         "name": "Session_Duration",
         "rawType": "int64",
         "type": "integer"
        },
        {
         "name": "Purchases",
         "rawType": "object",
         "type": "string"
        },
        {
         "name": "Added_to_Cart",
         "rawType": "object",
         "type": "string"
        }
       ],
       "ref": "e11766bc-dc87-4760-80ab-890f5d55b116",
       "rows": [
        [
         "0",
         "Light Theme",
         "0.0549199776705852",
         "0.2823668263320191",
         "0.4050849206899338",
         "72.48945804392022",
         "25",
         "Chennai",
         "1535",
         "No",
         "Yes"
        ],
        [
         "1",
         "Light Theme",
         "0.1139318495574234",
         "0.0329732075067029",
         "0.7327587606405821",
         "61.85856842837475",
         "19",
         "Pune",
         "303",
         "No",
         "Yes"
        ],
        [
         "2",
         "Dark Theme",
         "0.3233515300795548",
         "0.1787632665885786",
         "0.2965426969467927",
         "45.73737586862724",
         "47",
         "Chennai",
         "563",
         "Yes",
         "Yes"
        ],
        [
         "3",
         "Light Theme",
         "0.4858357229118433",
         "0.3252248720002013",
         "0.2450014526264947",
         "76.30529767377683",
         "58",
         "Pune",
         "385",
         "Yes",
         "No"
        ],
        [
         "4",
         "Light Theme",
         "0.0347834702248077",
         "0.1967657699066717",
         "0.7651004861211368",
         "48.92740687261026",
         "25",
         "New Delhi",
         "1437",
         "No",
         "No"
        ]
       ],
       "shape": {
        "columns": 10,
        "rows": 5
       }
      },
      "text/html": [
       "<div>\n",
       "<style scoped>\n",
       "    .dataframe tbody tr th:only-of-type {\n",
       "        vertical-align: middle;\n",
       "    }\n",
       "\n",
       "    .dataframe tbody tr th {\n",
       "        vertical-align: top;\n",
       "    }\n",
       "\n",
       "    .dataframe thead th {\n",
       "        text-align: right;\n",
       "    }\n",
       "</style>\n",
       "<table border=\"1\" class=\"dataframe\">\n",
       "  <thead>\n",
       "    <tr style=\"text-align: right;\">\n",
       "      <th></th>\n",
       "      <th>Theme</th>\n",
       "      <th>Click Through Rate</th>\n",
       "      <th>Conversion Rate</th>\n",
       "      <th>Bounce Rate</th>\n",
       "      <th>Scroll_Depth</th>\n",
       "      <th>Age</th>\n",
       "      <th>Location</th>\n",
       "      <th>Session_Duration</th>\n",
       "      <th>Purchases</th>\n",
       "      <th>Added_to_Cart</th>\n",
       "    </tr>\n",
       "  </thead>\n",
       "  <tbody>\n",
       "    <tr>\n",
       "      <th>0</th>\n",
       "      <td>Light Theme</td>\n",
       "      <td>0.054920</td>\n",
       "      <td>0.282367</td>\n",
       "      <td>0.405085</td>\n",
       "      <td>72.489458</td>\n",
       "      <td>25</td>\n",
       "      <td>Chennai</td>\n",
       "      <td>1535</td>\n",
       "      <td>No</td>\n",
       "      <td>Yes</td>\n",
       "    </tr>\n",
       "    <tr>\n",
       "      <th>1</th>\n",
       "      <td>Light Theme</td>\n",
       "      <td>0.113932</td>\n",
       "      <td>0.032973</td>\n",
       "      <td>0.732759</td>\n",
       "      <td>61.858568</td>\n",
       "      <td>19</td>\n",
       "      <td>Pune</td>\n",
       "      <td>303</td>\n",
       "      <td>No</td>\n",
       "      <td>Yes</td>\n",
       "    </tr>\n",
       "    <tr>\n",
       "      <th>2</th>\n",
       "      <td>Dark Theme</td>\n",
       "      <td>0.323352</td>\n",
       "      <td>0.178763</td>\n",
       "      <td>0.296543</td>\n",
       "      <td>45.737376</td>\n",
       "      <td>47</td>\n",
       "      <td>Chennai</td>\n",
       "      <td>563</td>\n",
       "      <td>Yes</td>\n",
       "      <td>Yes</td>\n",
       "    </tr>\n",
       "    <tr>\n",
       "      <th>3</th>\n",
       "      <td>Light Theme</td>\n",
       "      <td>0.485836</td>\n",
       "      <td>0.325225</td>\n",
       "      <td>0.245001</td>\n",
       "      <td>76.305298</td>\n",
       "      <td>58</td>\n",
       "      <td>Pune</td>\n",
       "      <td>385</td>\n",
       "      <td>Yes</td>\n",
       "      <td>No</td>\n",
       "    </tr>\n",
       "    <tr>\n",
       "      <th>4</th>\n",
       "      <td>Light Theme</td>\n",
       "      <td>0.034783</td>\n",
       "      <td>0.196766</td>\n",
       "      <td>0.765100</td>\n",
       "      <td>48.927407</td>\n",
       "      <td>25</td>\n",
       "      <td>New Delhi</td>\n",
       "      <td>1437</td>\n",
       "      <td>No</td>\n",
       "      <td>No</td>\n",
       "    </tr>\n",
       "  </tbody>\n",
       "</table>\n",
       "</div>"
      ],
      "text/plain": [
       "         Theme  Click Through Rate  Conversion Rate  Bounce Rate  \\\n",
       "0  Light Theme            0.054920         0.282367     0.405085   \n",
       "1  Light Theme            0.113932         0.032973     0.732759   \n",
       "2   Dark Theme            0.323352         0.178763     0.296543   \n",
       "3  Light Theme            0.485836         0.325225     0.245001   \n",
       "4  Light Theme            0.034783         0.196766     0.765100   \n",
       "\n",
       "   Scroll_Depth  Age   Location  Session_Duration Purchases Added_to_Cart  \n",
       "0     72.489458   25    Chennai              1535        No           Yes  \n",
       "1     61.858568   19       Pune               303        No           Yes  \n",
       "2     45.737376   47    Chennai               563       Yes           Yes  \n",
       "3     76.305298   58       Pune               385       Yes            No  \n",
       "4     48.927407   25  New Delhi              1437        No            No  "
      ]
     },
     "execution_count": 2,
     "metadata": {},
     "output_type": "execute_result"
    }
   ],
   "source": [
    "# Load Data\n",
    "df =pd.read_csv('C:\\\\Users\\\\adetu\\\\Desktop\\\\website_ab_test.csv')\n",
    "df.head()"
   ]
  },
  {
   "cell_type": "code",
   "execution_count": null,
   "id": "eb2ff0bd",
   "metadata": {},
   "outputs": [
    {
     "name": "stdout",
     "output_type": "stream",
     "text": [
      "<class 'pandas.core.frame.DataFrame'>\n",
      "RangeIndex: 1000 entries, 0 to 999\n",
      "Data columns (total 10 columns):\n",
      " #   Column              Non-Null Count  Dtype  \n",
      "---  ------              --------------  -----  \n",
      " 0   Theme               1000 non-null   object \n",
      " 1   Click Through Rate  1000 non-null   float64\n",
      " 2   Conversion Rate     1000 non-null   float64\n",
      " 3   Bounce Rate         1000 non-null   float64\n",
      " 4   Scroll_Depth        1000 non-null   float64\n",
      " 5   Age                 1000 non-null   int64  \n",
      " 6   Location            1000 non-null   object \n",
      " 7   Session_Duration    1000 non-null   int64  \n",
      " 8   Purchases           1000 non-null   object \n",
      " 9   Added_to_Cart       1000 non-null   object \n",
      "dtypes: float64(4), int64(2), object(4)\n",
      "memory usage: 78.3+ KB\n"
     ]
    },
    {
     "data": {
      "application/vnd.microsoft.datawrangler.viewer.v0+json": {
       "columns": [
        {
         "name": "index",
         "rawType": "object",
         "type": "string"
        },
        {
         "name": "0",
         "rawType": "int64",
         "type": "integer"
        }
       ],
       "ref": "d0fe10b5-09a4-4e5a-8354-c9acac991d3a",
       "rows": [
        [
         "Theme",
         "0"
        ],
        [
         "Click Through Rate",
         "0"
        ],
        [
         "Conversion Rate",
         "0"
        ],
        [
         "Bounce Rate",
         "0"
        ],
        [
         "Scroll_Depth",
         "0"
        ],
        [
         "Age",
         "0"
        ],
        [
         "Location",
         "0"
        ],
        [
         "Session_Duration",
         "0"
        ],
        [
         "Purchases",
         "0"
        ],
        [
         "Added_to_Cart",
         "0"
        ]
       ],
       "shape": {
        "columns": 1,
        "rows": 10
       }
      },
      "text/plain": [
       "Theme                 0\n",
       "Click Through Rate    0\n",
       "Conversion Rate       0\n",
       "Bounce Rate           0\n",
       "Scroll_Depth          0\n",
       "Age                   0\n",
       "Location              0\n",
       "Session_Duration      0\n",
       "Purchases             0\n",
       "Added_to_Cart         0\n",
       "dtype: int64"
      ]
     },
     "execution_count": 3,
     "metadata": {},
     "output_type": "execute_result"
    }
   ],
   "source": [
    "# Data Overview\n",
    "df.info()\n",
    "df.describe()\n",
    "df.isnull().sum()\n"
   ]
  },
  {
   "cell_type": "markdown",
   "id": "aad1c99f",
   "metadata": {},
   "source": [
    "### BASIC EDA "
   ]
  },
  {
   "cell_type": "code",
   "execution_count": 4,
   "id": "11c5fb12",
   "metadata": {},
   "outputs": [
    {
     "name": "stderr",
     "output_type": "stream",
     "text": [
      "C:\\Users\\adetu\\AppData\\Local\\Temp\\ipykernel_2780\\712650459.py:2: FutureWarning: \n",
      "\n",
      "The `ci` parameter is deprecated. Use `errorbar=None` for the same effect.\n",
      "\n",
      "  sns.barplot(x='Theme', y='Conversion Rate', data=df, ci=None, palette=\"muted\")\n",
      "C:\\Users\\adetu\\AppData\\Local\\Temp\\ipykernel_2780\\712650459.py:2: FutureWarning: \n",
      "\n",
      "Passing `palette` without assigning `hue` is deprecated and will be removed in v0.14.0. Assign the `x` variable to `hue` and set `legend=False` for the same effect.\n",
      "\n",
      "  sns.barplot(x='Theme', y='Conversion Rate', data=df, ci=None, palette=\"muted\")\n"
     ]
    },
    {
     "data": {
      "image/png": "[encoded data removed]",
      "text/plain": [
       "<Figure size 600x400 with 1 Axes>"
      ]
     },
     "metadata": {},
     "output_type": "display_data"
    }
   ],
   "source": [
    "plt.figure(figsize=(6,4))\n",
    "sns.barplot(x='Theme', y='Conversion Rate', data=df, ci=None, palette=\"muted\")\n",
    "plt.title(\"Average Conversion Rate by Theme\")\n",
    "plt.ylabel(\"Conversion Rate\")\n",
    "plt.show()\n"
   ]
  },
  {
   "cell_type": "code",
   "execution_count": 5,
   "id": "78928f1c",
   "metadata": {},
   "outputs": [
    {
     "name": "stderr",
     "output_type": "stream",
     "text": [
      "C:\\Users\\adetu\\AppData\\Local\\Temp\\ipykernel_2780\\4084715928.py:5: FutureWarning: \n",
      "\n",
      "Passing `palette` without assigning `hue` is deprecated and will be removed in v0.14.0. Assign the `x` variable to `hue` and set `legend=False` for the same effect.\n",
      "\n",
      "  sns.boxplot(x='Theme', y=var, data=df, palette=\"coolwarm\")\n"
     ]
    },
    {
     "data": {
      "image/png": "[encoded data removed]",
      "text/plain": [
       "<Figure size 600x400 with 1 Axes>"
      ]
     },
     "metadata": {},
     "output_type": "display_data"
    },
    {
     "name": "stderr",
     "output_type": "stream",
     "text": [
      "C:\\Users\\adetu\\AppData\\Local\\Temp\\ipykernel_2780\\4084715928.py:5: FutureWarning: \n",
      "\n",
      "Passing `palette` without assigning `hue` is deprecated and will be removed in v0.14.0. Assign the `x` variable to `hue` and set `legend=False` for the same effect.\n",
      "\n",
      "  sns.boxplot(x='Theme', y=var, data=df, palette=\"coolwarm\")\n"
     ]
    },
    {
     "data": {
      "image/png": "[encoded data removed]",
      "text/plain": [
       "<Figure size 600x400 with 1 Axes>"
      ]
     },
     "metadata": {},
     "output_type": "display_data"
    },
    {
     "name": "stderr",
     "output_type": "stream",
     "text": [
      "C:\\Users\\adetu\\AppData\\Local\\Temp\\ipykernel_2780\\4084715928.py:5: FutureWarning: \n",
      "\n",
      "Passing `palette` without assigning `hue` is deprecated and will be removed in v0.14.0. Assign the `x` variable to `hue` and set `legend=False` for the same effect.\n",
      "\n",
      "  sns.boxplot(x='Theme', y=var, data=df, palette=\"coolwarm\")\n"
     ]
    },
    {
     "data": {
      "image/png": "[encoded data removed]",
      "text/plain": [
       "<Figure size 600x400 with 1 Axes>"
      ]
     },
     "metadata": {},
     "output_type": "display_data"
    }
   ],
   "source": [
    "continuous_vars = ['Click Through Rate', 'Scroll_Depth', 'Session_Duration']\n",
    "\n",
    "for var in continuous_vars:\n",
    "    plt.figure(figsize=(6,4))\n",
    "    sns.boxplot(x='Theme', y=var, data=df, palette=\"coolwarm\")\n",
    "    plt.title(f\"{var} by Theme\")\n",
    "    plt.ylabel(var.replace(\"_\", \" \"))\n",
    "    plt.show()\n"
   ]
  },
  {
   "cell_type": "markdown",
   "id": "38c6489c",
   "metadata": {},
   "source": []
  },
  {
   "cell_type": "code",
   "execution_count": 6,
   "id": "e4e2397c",
   "metadata": {},
   "outputs": [
    {
     "data": {
      "image/png": "[encoded data removed]",
      "text/plain": [
       "<Figure size 600x400 with 1 Axes>"
      ]
     },
     "metadata": {},
     "output_type": "display_data"
    }
   ],
   "source": [
    "plt.figure(figsize=(6,4))\n",
    "sns.countplot(x='Added_to_Cart', hue='Theme', data=df, palette=\"pastel\")\n",
    "plt.title(\"Added to Cart Counts by Theme\")\n",
    "plt.ylabel(\"Number of Users\")\n",
    "plt.show()\n"
   ]
  },
  {
   "cell_type": "code",
   "execution_count": 7,
   "id": "01a9b466",
   "metadata": {},
   "outputs": [
    {
     "name": "stderr",
     "output_type": "stream",
     "text": [
      "C:\\Users\\adetu\\AppData\\Local\\Temp\\ipykernel_2780\\3083643658.py:2: FutureWarning: \n",
      "\n",
      "The `ci` parameter is deprecated. Use `errorbar=None` for the same effect.\n",
      "\n",
      "  sns.barplot(x='Theme', y='Bounce Rate', data=df, ci=None, palette=\"muted\")\n",
      "C:\\Users\\adetu\\AppData\\Local\\Temp\\ipykernel_2780\\3083643658.py:2: FutureWarning: \n",
      "\n",
      "Passing `palette` without assigning `hue` is deprecated and will be removed in v0.14.0. Assign the `x` variable to `hue` and set `legend=False` for the same effect.\n",
      "\n",
      "  sns.barplot(x='Theme', y='Bounce Rate', data=df, ci=None, palette=\"muted\")\n"
     ]
    },
    {
     "data": {
      "image/png": "[encoded data removed]",
      "text/plain": [
       "<Figure size 600x400 with 1 Axes>"
      ]
     },
     "metadata": {},
     "output_type": "display_data"
    }
   ],
   "source": [
    "plt.figure(figsize=(6,4))\n",
    "sns.barplot(x='Theme', y='Bounce Rate', data=df, ci=None, palette=\"muted\")\n",
    "plt.title(\"Average Bounce Rate by Theme\")\n",
    "plt.ylabel(\"Bounce Rate\")\n",
    "plt.show()\n"
   ]
  },
  {
   "cell_type": "code",
   "execution_count": null,
   "id": "9cc802f2",
   "metadata": {},
   "outputs": [
    {
     "name": "stdout",
     "output_type": "stream",
     "text": [
      "             Click Through Rate  Conversion Rate  Bounce Rate  Scroll_Depth  \\\n",
      "Theme                                                                         \n",
      "Dark Theme             0.264501         0.251282     0.512115     49.926404   \n",
      "Light Theme            0.247109         0.255459     0.499035     50.735232   \n",
      "\n",
      "             Session_Duration  Purchases  Added_to_Cart  \n",
      "Theme                                                    \n",
      "Dark Theme         919.482490   0.503891       0.519455  \n",
      "Light Theme        930.833333   0.530864       0.532922  \n"
     ]
    }
   ],
   "source": [
    "# summary statistics for each theme\n",
    "summary = df.groupby('Theme').agg({\n",
    "    'Click Through Rate': 'mean',\n",
    "    'Conversion Rate': 'mean',\n",
    "    'Bounce Rate': 'mean',\n",
    "    'Scroll_Depth': 'mean',\n",
    "    'Session_Duration': 'mean',\n",
    "    'Purchases': lambda x: (x == 'Yes').mean(),\n",
    "    'Added_to_Cart': lambda x: (x == 'Yes').mean()\n",
    "})\n",
    "print(summary)\n"
   ]
  },
  {
   "cell_type": "markdown",
   "id": "91b76a6a",
   "metadata": {},
   "source": [
    "## HYPOTHESIS TESTING"
   ]
  },
  {
   "cell_type": "markdown",
   "id": "14a177f6",
   "metadata": {},
   "source": [
    "### DEFINE HYPOTHESES \n",
    "Hypotheses for Each Metric(t-test) : \n",
    "\n",
    "* Null Hypothesis (H₀): The mean value of the metric is the same for Light Theme and Dark Theme.\n",
    "\n",
    "* Alternative Hypothesis (H₁): The mean value of the metric is different for Light Theme and Dark Theme.\n",
    "                        \n",
    "\n",
    "\n"
   ]
  },
  {
   "cell_type": "markdown",
   "id": "e8d963c3",
   "metadata": {},
   "source": [
    "### T-Test : Click Through Rate"
   ]
  },
  {
   "cell_type": "code",
   "execution_count": 9,
   "id": "d957449d",
   "metadata": {},
   "outputs": [
    {
     "name": "stdout",
     "output_type": "stream",
     "text": [
      "Light CTR mean: 0.24710871082680833\n",
      "Dark CTR mean: 0.2645008624648531\n",
      "p-value: 0.04835031140582486\n"
     ]
    }
   ],
   "source": [
    " from scipy import stats as stats\n",
    "light = df[df['Theme'] == 'Light Theme']\n",
    "dark = df[df['Theme'] == 'Dark Theme']\n",
    "\n",
    "t_stat, p_val = stats.ttest_ind(light['Click Through Rate'], dark['Click Through Rate'], nan_policy='omit')\n",
    "print(\"Light CTR mean:\", light['Click Through Rate'].mean())\n",
    "print(\"Dark CTR mean:\", dark['Click Through Rate'].mean())\n",
    "print(\"p-value:\", p_val)\n"
   ]
  },
  {
   "cell_type": "markdown",
   "id": "d1671000",
   "metadata": {},
   "source": [
    "### T-Test : Conversion Rate"
   ]
  },
  {
   "cell_type": "code",
   "execution_count": 10,
   "id": "81f97b54",
   "metadata": {},
   "outputs": [
    {
     "name": "stdout",
     "output_type": "stream",
     "text": [
      "Light Conversion mean: 0.25545931706801417\n",
      "Dark Conversion mean: 0.25128197366022825\n",
      "p-value: 0.6352523154387317\n"
     ]
    }
   ],
   "source": [
    "t_stat, p_val = stats.ttest_ind(light['Conversion Rate'], dark['Conversion Rate'], nan_policy='omit')\n",
    "print(\"Light Conversion mean:\", light['Conversion Rate'].mean())\n",
    "print(\"Dark Conversion mean:\", dark['Conversion Rate'].mean())\n",
    "print(\"p-value:\", p_val)\n"
   ]
  },
  {
   "cell_type": "markdown",
   "id": "3e543676",
   "metadata": {},
   "source": [
    "### T-Test: Bounce Rate"
   ]
  },
  {
   "cell_type": "code",
   "execution_count": 11,
   "id": "4c73c289",
   "metadata": {},
   "outputs": [
    {
     "name": "stdout",
     "output_type": "stream",
     "text": [
      "Light Bounce Rate mean: 0.4990347635354322\n",
      "Dark Bounce Rate mean: 0.5121146388541841\n",
      "p-value: 0.23010562502899057\n"
     ]
    }
   ],
   "source": [
    "t_stat, p_val = stats.ttest_ind(light['Bounce Rate'], dark['Bounce Rate'], nan_policy='omit')\n",
    "print(\"Light Bounce Rate mean:\", light['Bounce Rate'].mean())\n",
    "print(\"Dark Bounce Rate mean:\", dark['Bounce Rate'].mean())\n",
    "print(\"p-value:\", p_val)\n",
    "\n"
   ]
  },
  {
   "cell_type": "markdown",
   "id": "f4d81146",
   "metadata": {},
   "source": [
    "### T-Test: Scroll Depth"
   ]
  },
  {
   "cell_type": "code",
   "execution_count": 12,
   "id": "c49c7549",
   "metadata": {},
   "outputs": [
    {
     "name": "stdout",
     "output_type": "stream",
     "text": [
      "Light Scroll Depth mean: 50.73523168948282\n",
      "Dark Scroll Depth mean: 49.92640393998572\n",
      "p-value: 0.44953981496305406\n"
     ]
    }
   ],
   "source": [
    "t_stat, p_val = stats.ttest_ind(light['Scroll_Depth'], dark['Scroll_Depth'], nan_policy='omit')\n",
    "print(\"Light Scroll Depth mean:\", light['Scroll_Depth'].mean())\n",
    "print(\"Dark Scroll Depth mean:\", dark['Scroll_Depth'].mean())\n",
    "print(\"p-value:\", p_val)\n",
    "\n"
   ]
  },
  {
   "cell_type": "markdown",
   "id": "f9049cb9",
   "metadata": {},
   "source": [
    "### T-Test: Session Duration"
   ]
  },
  {
   "cell_type": "code",
   "execution_count": 13,
   "id": "efe4d6c6",
   "metadata": {},
   "outputs": [
    {
     "name": "stdout",
     "output_type": "stream",
     "text": [
      "Light Session Duration mean: 930.8333333333334\n",
      "Dark Session Duration mean: 919.4824902723735\n",
      "p-value: 0.7242842138292167\n"
     ]
    }
   ],
   "source": [
    "t_stat, p_val = stats.ttest_ind(light['Session_Duration'], dark['Session_Duration'], nan_policy='omit')\n",
    "print(\"Light Session Duration mean:\", light['Session_Duration'].mean())\n",
    "print(\"Dark Session Duration mean:\", dark['Session_Duration'].mean())\n",
    "print(\"p-value:\", p_val)\n"
   ]
  },
  {
   "cell_type": "markdown",
   "id": "5b2fc5f2",
   "metadata": {},
   "source": [
    "#### INSIGHTS AND CONCLUSION:\n",
    "\n",
    "* Click Through Rate: The difference is statistically significant (p = 0.0483), with Dark Theme achieving a higher CTR.\n",
    "\n",
    "* All other metrics (Conversion Rate, Bounce Rate, Scroll Depth, Session Duration) show no statistically significant difference between the two themes.\n",
    "\n",
    "* The Dark Theme leads to higher engagement in terms of Click Through Rate.\n",
    "\n",
    "* No strong evidence suggests one theme outperforms the other in conversions, bounce rate, depth, or time spent.\n",
    "  "
   ]
  }
 ],
 "metadata": {
  "kernelspec": {
   "display_name": "base",
   "language": "python",
   "name": "python3"
  },
  "language_info": {
   "codemirror_mode": {
    "name": "ipython",
    "version": 3
   },
   "file_extension": ".py",
   "mimetype": "text/x-python",
   "name": "python",
   "nbconvert_exporter": "python",
   "pygments_lexer": "ipython3",
   "version": "3.13.5"
  }
 },
 "nbformat": 4,
 "nbformat_minor": 5
}
